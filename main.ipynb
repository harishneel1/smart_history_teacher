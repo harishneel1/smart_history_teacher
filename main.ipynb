{
 "cells": [
  {
   "cell_type": "code",
   "execution_count": 78,
   "metadata": {},
   "outputs": [],
   "source": [
    "import getpass\n",
    "import os\n",
    "from pinecone import Pinecone, ServerlessSpec\n",
    "from dotenv import load_dotenv\n",
    "load_dotenv()\n",
    "\n",
    "if not os.getenv(\"PINECONE_API_KEY\"):\n",
    "    os.environ[\"PINECONE_API_KEY\"] = getpass.getpass(\"Enter your Pinecone API key: \")\n",
    "\n",
    "pinecone_api_key = os.environ.get(\"PINECONE_API_KEY\")\n",
    "\n",
    "pc = Pinecone(api_key=pinecone_api_key)"
   ]
  },
  {
   "cell_type": "code",
   "execution_count": null,
   "metadata": {},
   "outputs": [],
   "source": [
    "from langchain_openai import OpenAIEmbeddings\n",
    "\n",
    "embeddings = OpenAIEmbeddings(model=\"text-embedding-3-small\")"
   ]
  },
  {
   "cell_type": "code",
   "execution_count": 80,
   "metadata": {},
   "outputs": [],
   "source": [
    "from langchain_community.document_loaders import PyPDFLoader, DirectoryLoader\n",
    "\n",
    "# Adjust the path to where your PDF is located\n",
    "data_path = \"./books\"\n",
    "\n",
    "# Load all PDFs from the directory\n",
    "loader = DirectoryLoader(\n",
    "    data_path,\n",
    "    glob='*.pdf',\n",
    "    loader_cls=PyPDFLoader\n",
    ")\n",
    "    \n",
    "# This gives you one document per page\n",
    "documents=loader.load()"
   ]
  },
  {
   "cell_type": "code",
   "execution_count": 67,
   "metadata": {},
   "outputs": [
    {
     "name": "stdout",
     "output_type": "stream",
     "text": [
      "Loaded 480 pages from PDF(s)\n"
     ]
    }
   ],
   "source": [
    "print(f\"Loaded {len(documents)} pages from PDF(s)\")"
   ]
  },
  {
   "cell_type": "code",
   "execution_count": 81,
   "metadata": {},
   "outputs": [],
   "source": [
    "from langchain_text_splitters import RecursiveCharacterTextSplitter\n",
    "\n",
    "# Create the text splitter\n",
    "text_splitter = RecursiveCharacterTextSplitter(\n",
    "    chunk_size=750,\n",
    "    chunk_overlap=30,\n",
    "    length_function=len\n",
    ")"
   ]
  },
  {
   "cell_type": "code",
   "execution_count": 82,
   "metadata": {},
   "outputs": [
    {
     "data": {
      "text/plain": [
       "1425"
      ]
     },
     "execution_count": 82,
     "metadata": {},
     "output_type": "execute_result"
    }
   ],
   "source": [
    "chunk_documents = text_splitter.split_documents(documents)\n",
    "len(chunk_documents) \n",
    "\n",
    "# So now we have a list of documents with much smaller chunks"
   ]
  },
  {
   "cell_type": "code",
   "execution_count": 83,
   "metadata": {},
   "outputs": [],
   "source": [
    "import time\n",
    "\n",
    "index_name = \"sapiens\" \n",
    "\n",
    "existing_indexes = [index_info[\"name\"] for index_info in pc.list_indexes()]\n",
    "\n",
    "if index_name not in existing_indexes:\n",
    "    pc.create_index(\n",
    "        name=index_name,\n",
    "        dimension=1536,\n",
    "        metric=\"cosine\",\n",
    "        spec=ServerlessSpec(cloud=\"aws\", region=\"us-east-1\"),\n",
    "    )\n",
    "    while not pc.describe_index(index_name).status[\"ready\"]:\n",
    "        time.sleep(1)\n",
    "\n",
    "index = pc.Index(index_name)"
   ]
  },
  {
   "cell_type": "code",
   "execution_count": 84,
   "metadata": {},
   "outputs": [],
   "source": [
    "from langchain_pinecone import PineconeVectorStore\n",
    "\n",
    "vector_store = PineconeVectorStore(index=index, embedding=embeddings)"
   ]
  },
  {
   "cell_type": "code",
   "execution_count": 85,
   "metadata": {},
   "outputs": [],
   "source": [
    "import uuid\n",
    "\n",
    "# Now you can add these to your vector store\n",
    "doc_ids = [str(uuid.uuid4()) for _ in range(len(chunk_documents))]"
   ]
  },
  {
   "cell_type": "code",
   "execution_count": 86,
   "metadata": {},
   "outputs": [
    {
     "name": "stdout",
     "output_type": "stream",
     "text": [
      "Processed batch 1/29\n",
      "Processed batch 2/29\n",
      "Processed batch 3/29\n",
      "Processed batch 4/29\n",
      "Processed batch 5/29\n",
      "Processed batch 6/29\n",
      "Processed batch 7/29\n",
      "Processed batch 8/29\n",
      "Processed batch 9/29\n",
      "Processed batch 10/29\n",
      "Processed batch 11/29\n",
      "Processed batch 12/29\n",
      "Processed batch 13/29\n",
      "Processed batch 14/29\n",
      "Processed batch 15/29\n",
      "Processed batch 16/29\n",
      "Processed batch 17/29\n",
      "Processed batch 18/29\n",
      "Processed batch 19/29\n",
      "Processed batch 20/29\n",
      "Processed batch 21/29\n",
      "Processed batch 22/29\n",
      "Processed batch 23/29\n",
      "Processed batch 24/29\n",
      "Processed batch 25/29\n",
      "Processed batch 26/29\n",
      "Processed batch 27/29\n",
      "Processed batch 28/29\n",
      "Processed batch 29/29\n"
     ]
    }
   ],
   "source": [
    "\n",
    "# Define a reasonable batch size\n",
    "batch_size = 50  # Start small and adjust as needed\n",
    "\n",
    "# Process in batches\n",
    "for i in range(0, len(chunk_documents), batch_size):\n",
    "    # Get current batch of documents and IDs\n",
    "    batch_docs = chunk_documents[i:i+batch_size]\n",
    "    batch_ids = doc_ids[i:i+batch_size]\n",
    "    \n",
    "    # Add the batch to the vector store\n",
    "    vector_store.add_documents(documents=batch_docs, ids=batch_ids)\n",
    "    \n",
    "    print(f\"Processed batch {i//batch_size + 1}/{(len(chunk_documents) + batch_size - 1)//batch_size}\")"
   ]
  },
  {
   "cell_type": "code",
   "execution_count": 87,
   "metadata": {},
   "outputs": [
    {
     "data": {
      "text/plain": [
       "[Document(id='69866e02-76dc-4800-a574-4933b8e1cd0b', metadata={'author': 'Yuval Noah Harari', 'creationdate': '2021-10-25T10:34:20+00:00', 'creator': 'calibre (2.10.0) [http://calibre-ebook.com]', 'moddate': '2021-10-25T05:34:22-06:00', 'page': 235.0, 'page_label': '236', 'producer': 'calibre (2.10.0) [http://calibre-ebook.com]', 'source': 'books/sapiens.pdf', 'title': 'Sapiens: A Brief History of Humankind', 'total_pages': 480.0}, page_content='goal or cancel the o\\x00side rule.\\n2. Based on this superhuman order, religion establishes norms and\\nvalues that it considers binding. Many Westerners today believe in\\nghosts, fairies and reincarnation, but these beliefs are not a source\\nof moral and behavioural standards. As such, they do not constitute\\na religion.\\nDespite their ability to legitimise widespread social and political\\norders, not all religions have actuated this potential. In order to\\nunite under its aegis a large expanse of territory inhabited by\\ndisparate groups of human beings, a religion must possess two\\nfurther qualities. First, it must espouse a universal superhuman order\\nthat is true always and everywhere. Second, it must insist on'),\n",
       " Document(id='a26bd732-8b7e-4a1b-a779-e78021ccf6f1', metadata={'author': 'Yuval Noah Harari', 'creationdate': '2021-10-25T10:34:20+00:00', 'creator': 'calibre (2.10.0) [http://calibre-ebook.com]', 'moddate': '2021-10-25T05:34:22-06:00', 'page': 256.0, 'page_label': '257', 'producer': 'calibre (2.10.0) [http://calibre-ebook.com]', 'source': 'books/sapiens.pdf', 'title': 'Sapiens: A Brief History of Humankind', 'total_pages': 480.0}, page_content='Religion is a system of human norms and values that is founded on belief in a\\nsuperhuman order. The theory of relativity is not a religion, because (at least so far)\\nthere are no human norms and values that are founded on it. Football is not a\\nreligion because nobody argues that its rules re\\x00ect superhuman edicts. Islam,\\nBuddhism and Communism are all religions, because all are systems of human\\nnorms and values that are founded on belief in a superhuman order. (Note the\\ndi\\x00erence between ‘superhuman’ and ‘supernatural’. The Buddhist law of nature and\\nthe Marxist laws of history are superhuman, since they were not legislated by\\nhumans. Yet they are not supernatural.)\\nSome readers may feel very uncomfortable with this line of'),\n",
       " Document(id='fa49dd4a-03cc-4bae-a174-824c66f29277', metadata={'author': 'Yuval Noah Harari', 'creationdate': '2021-10-25T10:34:20+00:00', 'creator': 'calibre (2.10.0) [http://calibre-ebook.com]', 'moddate': '2021-10-25T05:34:22-06:00', 'page': 235.0, 'page_label': '236', 'producer': 'calibre (2.10.0) [http://calibre-ebook.com]', 'source': 'books/sapiens.pdf', 'title': 'Sapiens: A Brief History of Humankind', 'total_pages': 480.0}, page_content='thoughtfully. To one side, gold jewellery shining against jet-black\\nskin, might have been a group of Muslims from the African kingdom\\nof Mali. The aroma of clove, turmeric, cardamom and sea salt would\\nhave signalled the presence of brothers from India, or perhaps from\\nthe mysterious spice islands further east.\\nToday religion is often considered a source of discrimination,\\ndisagreement and disunion. Yet, in fact, religion has been the third\\ngreat uni\\x00er of humankind, alongside money and empires. Since all\\nsocial orders and hierarchies are imagined, they are all fragile, and\\nthe larger the society, the more fragile it is. The crucial historical\\nrole of religion has been to give superhuman legitimacy to these'),\n",
       " Document(id='2a0b76bf-228c-46b7-8a93-9a2c5fb00230', metadata={'author': 'Yuval Noah Harari', 'creationdate': '2021-10-25T10:34:20+00:00', 'creator': 'calibre (2.10.0) [http://calibre-ebook.com]', 'moddate': '2021-10-25T05:34:22-06:00', 'page': 235.0, 'page_label': '236', 'producer': 'calibre (2.10.0) [http://calibre-ebook.com]', 'source': 'books/sapiens.pdf', 'title': 'Sapiens: A Brief History of Humankind', 'total_pages': 480.0}, page_content='fragile structures. Religions assert that our laws are not the result of\\nhuman caprice, but are ordained by an absolute and supreme\\nauthority. This helps place at least some fundamental laws beyond\\nchallenge, thereby ensuring social stability.\\nReligion can thus be de\\x00ned as a system of human norms and\\nvalues that is founded on a belief in a superhuman order. This involves\\ntwo distinct criteria:\\n1. Religions hold that there is a superhuman order, which is not\\nthe product of human whims or agreements. Professional football is\\nnot a religion, because despite its many laws, rites and often bizarre\\nrituals, everyone knows that human beings invented football\\nthemselves, and FIFA may at any moment enlarge the size of the')]"
      ]
     },
     "execution_count": 87,
     "metadata": {},
     "output_type": "execute_result"
    }
   ],
   "source": [
    "vector_store.similarity_search(query=\"religions are a hoax\")"
   ]
  },
  {
   "cell_type": "code",
   "execution_count": 101,
   "metadata": {},
   "outputs": [],
   "source": [
    "from langchain_core.prompts import ChatPromptTemplate\n",
    "from langchain_core.messages import SystemMessage\n",
    "\n",
    "template = \"\"\"\n",
    "    You are an assistant for question-answering tasks. Use the following pieces of retrieved context to answer the question. If you don't know the answer, just say that you don't know. Use three sentences maximum and keep the answer concise.\n",
    "\n",
    "    Question: {question} \n",
    "    Context: {context} \n",
    "\"\"\"\n",
    "\n",
    "prompt_template = ChatPromptTemplate.from_template(template)"
   ]
  },
  {
   "cell_type": "code",
   "execution_count": 102,
   "metadata": {},
   "outputs": [],
   "source": [
    "def get_context(query):\n",
    "    documents = vector_store.similarity_search(query=query)\n",
    "    return \"\\n\\n\".join(doc.page_content for doc in documents)"
   ]
  },
  {
   "cell_type": "code",
   "execution_count": 104,
   "metadata": {},
   "outputs": [],
   "source": [
    "from langchain_openai import ChatOpenAI\n",
    "from langchain.schema.runnable import RunnablePassthrough\n",
    "\n",
    "llm = ChatOpenAI(model=\"gpt-4o\")\n",
    "# Create the chain properly\n",
    "chain = (\n",
    "    {\n",
    "        \"context\": lambda query: get_context(query),\n",
    "        \"question\": RunnablePassthrough()\n",
    "    } \n",
    "    | prompt_template \n",
    "    | llm\n",
    ")"
   ]
  },
  {
   "cell_type": "code",
   "execution_count": 105,
   "metadata": {},
   "outputs": [
    {
     "data": {
      "text/plain": [
       "AIMessage(content=\"The context does not directly address whether religions are hoaxes. It describes religions as systems of norms and values based on a superhuman order, which can unify disparate groups and legitimize social and political orders. Whether religions are considered hoaxes would depend on one's perspective on their beliefs and cultural significance.\", additional_kwargs={'refusal': None}, response_metadata={'token_usage': {'completion_tokens': 60, 'prompt_tokens': 655, 'total_tokens': 715, 'completion_tokens_details': {'accepted_prediction_tokens': 0, 'audio_tokens': 0, 'reasoning_tokens': 0, 'rejected_prediction_tokens': 0}, 'prompt_tokens_details': {'audio_tokens': 0, 'cached_tokens': 0}}, 'model_name': 'gpt-4o-2024-08-06', 'system_fingerprint': 'fp_92f14e8683', 'id': 'chatcmpl-BL5MaRwwJUqtZtzNT3QhMG7zNQiXf', 'finish_reason': 'stop', 'logprobs': None}, id='run-eeb06576-6ebe-4777-979f-edbbda5787f1-0', usage_metadata={'input_tokens': 655, 'output_tokens': 60, 'total_tokens': 715, 'input_token_details': {'audio': 0, 'cache_read': 0}, 'output_token_details': {'audio': 0, 'reasoning': 0}})"
      ]
     },
     "execution_count": 105,
     "metadata": {},
     "output_type": "execute_result"
    }
   ],
   "source": [
    "chain.invoke(\"Are religions hoaxes?\")"
   ]
  },
  {
   "cell_type": "code",
   "execution_count": null,
   "metadata": {},
   "outputs": [],
   "source": []
  }
 ],
 "metadata": {
  "kernelspec": {
   "display_name": "venv",
   "language": "python",
   "name": "python3"
  },
  "language_info": {
   "codemirror_mode": {
    "name": "ipython",
    "version": 3
   },
   "file_extension": ".py",
   "mimetype": "text/x-python",
   "name": "python",
   "nbconvert_exporter": "python",
   "pygments_lexer": "ipython3",
   "version": "3.12.0"
  }
 },
 "nbformat": 4,
 "nbformat_minor": 2
}
